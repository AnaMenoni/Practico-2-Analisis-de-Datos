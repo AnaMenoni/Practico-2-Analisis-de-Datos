{
 "cells": [
  {
   "cell_type": "markdown",
   "id": "06c12791",
   "metadata": {},
   "source": [
    "# Análisis y limpieza de datos "
   ]
  },
  {
   "cell_type": "code",
   "execution_count": null,
   "id": "7f0b256a",
   "metadata": {
    "vscode": {
     "languageId": "plaintext"
    }
   },
   "outputs": [],
   "source": []
  },
  {
   "cell_type": "markdown",
   "id": "e3ed74e8",
   "metadata": {},
   "source": [
    "# Parte 1\n",
    "¿Cómo ha cambiado la proporción entre películas y series a lo\n",
    "largo de los años?"
   ]
  },
  {
   "cell_type": "code",
   "execution_count": null,
   "id": "4b49a034",
   "metadata": {
    "vscode": {
     "languageId": "plaintext"
    }
   },
   "outputs": [],
   "source": []
  },
  {
   "cell_type": "markdown",
   "id": "d50d542e",
   "metadata": {},
   "source": [
    "# Parte 2\n",
    "¿Cómo evolucionó la cantidad de estrenos a lo largo del tiempo\n",
    "para cada tipo de contenido?"
   ]
  },
  {
   "cell_type": "code",
   "execution_count": null,
   "id": "40c6c144",
   "metadata": {
    "vscode": {
     "languageId": "plaintext"
    }
   },
   "outputs": [],
   "source": []
  },
  {
   "cell_type": "markdown",
   "id": "337283bd",
   "metadata": {},
   "source": [
    "# Parte 3\n",
    "¿Cuáles son los países con más producciones? ¿Se destacan\n",
    "más por películas o series?"
   ]
  },
  {
   "cell_type": "code",
   "execution_count": null,
   "id": "29b43d5a",
   "metadata": {
    "vscode": {
     "languageId": "plaintext"
    }
   },
   "outputs": [],
   "source": []
  },
  {
   "cell_type": "markdown",
   "id": "2b2317e8",
   "metadata": {},
   "source": [
    "# Parte 4\n",
    "¿Qué tipo de contenido es más común para cada rating?"
   ]
  },
  {
   "cell_type": "code",
   "execution_count": null,
   "id": "4a3e7c17",
   "metadata": {
    "vscode": {
     "languageId": "plaintext"
    }
   },
   "outputs": [],
   "source": []
  },
  {
   "cell_type": "markdown",
   "id": "915b585a",
   "metadata": {},
   "source": [
    "# Parte 5\n",
    "¿Qué países producen más contenido para audiencias adultas e\n",
    "infantiles? ¿Se les ocurre otra separación además de estas dos?"
   ]
  },
  {
   "cell_type": "code",
   "execution_count": null,
   "id": "b226ff8e",
   "metadata": {
    "vscode": {
     "languageId": "plaintext"
    }
   },
   "outputs": [],
   "source": []
  },
  {
   "cell_type": "markdown",
   "id": "c2da0086",
   "metadata": {},
   "source": [
    "# Parte 6\n",
    "¿Se identifica alguna estacionalidad en los estrenos según la\n",
    "categoría (listed in)? Qué meses concentran más lanzamientos?"
   ]
  },
  {
   "cell_type": "code",
   "execution_count": null,
   "id": "e76793bf",
   "metadata": {
    "vscode": {
     "languageId": "plaintext"
    }
   },
   "outputs": [],
   "source": []
  },
  {
   "cell_type": "markdown",
   "id": "512be3e0",
   "metadata": {},
   "source": [
    "# Parte 7\n",
    "¿Qué directores tienen más títulos? ¿Se concentran en algún tipo de contenido o en una audiencia específica?"
   ]
  },
  {
   "cell_type": "code",
   "execution_count": null,
   "id": "14017369",
   "metadata": {
    "vscode": {
     "languageId": "plaintext"
    }
   },
   "outputs": [],
   "source": []
  },
  {
   "cell_type": "markdown",
   "id": "0f5e3a0e",
   "metadata": {},
   "source": [
    "# Parte 8\n",
    "¿Cuáles son los actores más populares?\n"
   ]
  },
  {
   "cell_type": "code",
   "execution_count": null,
   "id": "679e8aac",
   "metadata": {
    "vscode": {
     "languageId": "plaintext"
    }
   },
   "outputs": [],
   "source": []
  },
  {
   "cell_type": "markdown",
   "id": "42e4e12e",
   "metadata": {},
   "source": [
    "# Parte 9\n",
    "¿Cuál es la distribución en duración en series y películas?"
   ]
  },
  {
   "cell_type": "code",
   "execution_count": null,
   "id": "8ba82683",
   "metadata": {
    "vscode": {
     "languageId": "plaintext"
    }
   },
   "outputs": [],
   "source": []
  },
  {
   "cell_type": "markdown",
   "id": "49f8cbc7",
   "metadata": {},
   "source": [
    "# Parte 10\n",
    "¿Hay palabras que se utilicen más que otras en títulos y descripciones?"
   ]
  },
  {
   "cell_type": "code",
   "execution_count": null,
   "id": "65832cda",
   "metadata": {
    "vscode": {
     "languageId": "plaintext"
    }
   },
   "outputs": [],
   "source": []
  }
 ],
 "metadata": {
  "language_info": {
   "name": "python"
  }
 },
 "nbformat": 4,
 "nbformat_minor": 5
}
