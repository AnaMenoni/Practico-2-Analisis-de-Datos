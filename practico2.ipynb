{
 "cells": [
  {
   "cell_type": "markdown",
   "id": "06c12791",
   "metadata": {},
   "source": [
    "# Análisis y limpieza de datos "
   ]
  },
  {
   "cell_type": "code",
   "execution_count": null,
   "id": "7f0b256a",
   "metadata": {},
   "outputs": [],
   "source": [
    "import pandas as pd\n",
    "import numpy as np\n",
    "import matplotlib.pyplot as plt\n",
    "\n",
    "print(\"Hola, quiero ver si funciona\")\n",
    "print(\"p\")\n"
   ]
  },
  {
   "cell_type": "code",
   "execution_count": null,
   "id": "acac5863",
   "metadata": {},
   "outputs": [],
   "source": []
  },
  {
   "cell_type": "markdown",
   "id": "e3ed74e8",
   "metadata": {},
   "source": [
    "# Parte 1\n",
    "¿Cómo ha cambiado la proporción entre películas y series a lo\n",
    "largo de los años?"
   ]
  },
  {
   "cell_type": "code",
   "execution_count": null,
   "id": "4b49a034",
   "metadata": {},
   "outputs": [],
   "source": []
  },
  {
   "cell_type": "markdown",
   "id": "d50d542e",
   "metadata": {},
   "source": [
    "# Parte 2\n",
    "¿Cómo evolucionó la cantidad de estrenos a lo largo del tiempo\n",
    "para cada tipo de contenido?"
   ]
  },
  {
   "cell_type": "code",
   "execution_count": null,
   "id": "40c6c144",
   "metadata": {},
   "outputs": [],
   "source": []
  },
  {
   "cell_type": "markdown",
   "id": "337283bd",
   "metadata": {},
   "source": [
    "# Parte 3\n",
    "¿Cuáles son los países con más producciones? ¿Se destacan\n",
    "más por películas o series?"
   ]
  },
  {
   "cell_type": "code",
   "execution_count": null,
   "id": "29b43d5a",
   "metadata": {},
   "outputs": [],
   "source": []
  },
  {
   "cell_type": "markdown",
   "id": "2b2317e8",
   "metadata": {},
   "source": [
    "# Parte 4\n",
    "¿Qué tipo de contenido es más común para cada rating?"
   ]
  },
  {
   "cell_type": "code",
   "execution_count": null,
   "id": "4a3e7c17",
   "metadata": {},
   "outputs": [],
   "source": []
  },
  {
   "cell_type": "markdown",
   "id": "915b585a",
   "metadata": {},
   "source": [
    "# Parte 5\n",
    "¿Qué países producen más contenido para audiencias adultas e\n",
    "infantiles? ¿Se les ocurre otra separación además de estas dos?"
   ]
  },
  {
   "cell_type": "code",
   "execution_count": null,
   "id": "b226ff8e",
   "metadata": {},
   "outputs": [],
   "source": []
  },
  {
   "cell_type": "markdown",
   "id": "c2da0086",
   "metadata": {},
   "source": [
    "# Parte 6\n",
    "¿Se identifica alguna estacionalidad en los estrenos según la\n",
    "categoría (listed in)? Qué meses concentran más lanzamientos?"
   ]
  },
  {
   "cell_type": "code",
   "execution_count": null,
   "id": "e76793bf",
   "metadata": {},
   "outputs": [],
   "source": []
  },
  {
   "cell_type": "markdown",
   "id": "512be3e0",
   "metadata": {},
   "source": [
    "# Parte 7\n",
    "¿Qué directores tienen más títulos? ¿Se concentran en algún tipo de contenido o en una audiencia específica?"
   ]
  },
  {
   "cell_type": "code",
   "execution_count": null,
   "id": "14017369",
   "metadata": {},
   "outputs": [],
   "source": []
  },
  {
   "cell_type": "markdown",
   "id": "0f5e3a0e",
   "metadata": {},
   "source": [
    "# Parte 8\n",
    "¿Cuáles son los actores más populares?\n"
   ]
  },
  {
   "cell_type": "code",
   "execution_count": null,
   "id": "679e8aac",
   "metadata": {},
   "outputs": [],
   "source": []
  },
  {
   "cell_type": "markdown",
   "id": "42e4e12e",
   "metadata": {},
   "source": [
    "# Parte 9\n",
    "¿Cuál es la distribución en duración en series y películas?"
   ]
  },
  {
   "cell_type": "code",
   "execution_count": null,
   "id": "8ba82683",
   "metadata": {},
   "outputs": [],
   "source": []
  },
  {
   "cell_type": "markdown",
   "id": "49f8cbc7",
   "metadata": {},
   "source": [
    "# Parte 10\n",
    "¿Hay palabras que se utilicen más que otras en títulos y descripciones?"
   ]
  },
  {
   "cell_type": "code",
   "execution_count": null,
   "id": "65832cda",
   "metadata": {},
   "outputs": [],
   "source": []
  }
 ],
 "metadata": {
  "kernelspec": {
   "display_name": "Python 3",
   "language": "python",
   "name": "python3"
  },
  "language_info": {
   "codemirror_mode": {
    "name": "ipython",
    "version": 3
   },
   "file_extension": ".py",
   "mimetype": "text/x-python",
   "name": "python",
   "nbconvert_exporter": "python",
   "pygments_lexer": "ipython3",
   "version": "3.12.5"
  }
 },
 "nbformat": 4,
 "nbformat_minor": 5
}
